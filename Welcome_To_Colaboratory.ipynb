{
  "nbformat": 4,
  "nbformat_minor": 0,
  "metadata": {
    "colab": {
      "name": "Welcome To Colaboratory",
      "provenance": [],
      "collapsed_sections": [],
      "toc_visible": true,
      "include_colab_link": true
    },
    "kernelspec": {
      "display_name": "Python 3",
      "name": "python3"
    }
  },
  "cells": [
    {
      "cell_type": "markdown",
      "metadata": {
        "id": "view-in-github",
        "colab_type": "text"
      },
      "source": [
        "<a href=\"https://colab.research.google.com/github/Haseeb30000/Java/blob/master/Welcome_To_Colaboratory.ipynb\" target=\"_parent\"><img src=\"https://colab.research.google.com/assets/colab-badge.svg\" alt=\"Open In Colab\"/></a>"
      ]
    },
    {
      "cell_type": "code",
      "metadata": {
        "id": "Z8DOk20cDfQ1",
        "colab_type": "code",
        "colab": {}
      },
      "source": [
        ""
      ],
      "execution_count": 0,
      "outputs": []
    },
    {
      "cell_type": "code",
      "metadata": {
        "id": "HxOKYGJPDkBP",
        "colab_type": "code",
        "colab": {}
      },
      "source": [
        "\n",
        "X_train=[[33,48,1],[28,28,1],[33,33,1],[23,48,2],[33,68,2],[28,48,2],[43,68,2],[38,48,3],[33,43,3],[48,38,4],[28,28,4]]\n",
        "y2_train= [['senior'],['junior'],['junior'],['junior'],['senior'],['junior'],['senior'],['senior'],['junior'],['senior'],['junior']]\n",
        "\n",
        "X_test = [[33,48,3],[33,68,1]]\n",
        "\n",
        "\n",
        "\n",
        "\n"
      ],
      "execution_count": 0,
      "outputs": []
    },
    {
      "cell_type": "code",
      "metadata": {
        "id": "cWbV0LxMDh9U",
        "colab_type": "code",
        "colab": {
          "base_uri": "https://localhost:8080/",
          "height": 88
        },
        "outputId": "4bcd0187-5849-4080-f580-2c905d97b3e3"
      },
      "source": [
        "\n",
        "from sklearn.naive_bayes import GaussianNB \n",
        "gnb = GaussianNB() \n",
        "\n",
        "\n",
        "from sklearn.naive_bayes import GaussianNB \n",
        "from sklearn.gaussian_process import GaussianProcessClassifier\n",
        "from sklearn.gaussian_process.kernels import RBF\n",
        "k = 2 * RBF(1.0)\n",
        "\n",
        "\n",
        "gnb= GaussianProcessClassifier(kernel=k,random_state=0).fit(X_train, y2_train)\n",
        "\n",
        "y_pred = gnb.predict(X_test) \n",
        "\n",
        "\n",
        "print(y_pred)  \n",
        "\n",
        " \n"
      ],
      "execution_count": 76,
      "outputs": [
        {
          "output_type": "stream",
          "text": [
            "['senior' 'senior']\n"
          ],
          "name": "stdout"
        },
        {
          "output_type": "stream",
          "text": [
            "/usr/local/lib/python3.6/dist-packages/sklearn/utils/validation.py:760: DataConversionWarning: A column-vector y was passed when a 1d array was expected. Please change the shape of y to (n_samples, ), for example using ravel().\n",
            "  y = column_or_1d(y, warn=True)\n"
          ],
          "name": "stderr"
        }
      ]
    },
    {
      "cell_type": "code",
      "metadata": {
        "id": "Q-BfjZIq_O_-",
        "colab_type": "code",
        "colab": {}
      },
      "source": [
        "gnb = GaussianNB() \n",
        "\n",
        "\n",
        "gnb.fit(X_train, y2_train)"
      ],
      "execution_count": 0,
      "outputs": []
    }
  ]
}